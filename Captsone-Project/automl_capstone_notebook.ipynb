{
  "cells": [
    {
      "cell_type": "markdown",
      "source": [
        "# Automated ML\n",
        "\n",
        "TODO: Import Dependencies. In the cell below, import all the dependencies that you will need to complete the project."
      ],
      "metadata": {}
    },
    {
      "cell_type": "code",
      "source": [
        "import logging\n",
        "import os\n",
        "import csv\n",
        "import pkg_resources\n",
        "import json\n",
        "import requests\n",
        "\n",
        "import numpy as np\n",
        "import pandas as pd\n",
        "\n",
        "from matplotlib import pyplot as plt\n",
        "\n",
        "import sklearn\n",
        "from sklearn import datasets\n",
        "from sklearn.metrics import confusion_matrix\n",
        "\n",
        "import azureml.core\n",
        "from azureml.core import Model\n",
        "from azureml.core.compute import AmlCompute\n",
        "from azureml.core.compute import ComputeTarget\n",
        "from azureml.core.compute_target import ComputeTargetException\n",
        "from azureml.core.dataset import Dataset\n",
        "from azureml.core.environment import Environment\n",
        "from azureml.core.experiment import Experiment\n",
        "from azureml.core.model import InferenceConfig\n",
        "from azureml.core.resource_configuration import ResourceConfiguration\n",
        "from azureml.core.webservice import AciWebservice\n",
        "from azureml.core.workspace import Workspace\n",
        "from azureml.train.automl import AutoMLConfig\n",
        "from azureml.widgets import RunDetails\n",
        "\n",
        "# Check core SDK version number\n",
        "print(\"SDK version:\", azureml.core.VERSION)"
      ],
      "outputs": [
        {
          "output_type": "stream",
          "name": "stdout",
          "text": "SDK version: 1.59.0\n"
        }
      ],
      "execution_count": 1,
      "metadata": {
        "gather": {
          "logged": 1742193175654
        },
        "jupyter": {
          "outputs_hidden": false,
          "source_hidden": false
        },
        "nteract": {
          "transient": {
            "deleting": false
          }
        }
      }
    },
    {
      "cell_type": "markdown",
      "source": [
        "## Dataset\n",
        "\n",
        "### Overview\n",
        "TODO: In this markdown cell, give an overview of the dataset you are using. Also mention the task you will be performing.\n",
        "\n",
        "\n",
        "TODO: Get data. In the cell below, write code to access the data you will be using in this project. Remember that the dataset needs to be external."
      ],
      "metadata": {}
    },
    {
      "cell_type": "code",
      "source": [
        "ws = Workspace.from_config()\n",
        "print(\n",
        "    'Workspace name: ' + ws.name, \n",
        "    'Azure region: ' + ws.location, \n",
        "    'Subscription id: ' + ws.subscription_id, \n",
        "    'Resource group: ' + ws.resource_group, sep = '\\n'\n",
        "    )\n",
        "\n",
        "# Choose a name for the run history container in the workspace\n",
        "experiment_name = 'heart-failure-capstone-aml-experiment'\n",
        "project_folder = './Capstone-Project'\n",
        "\n",
        "experiment = Experiment(ws, experiment_name)\n",
        "print(experiment)"
      ],
      "outputs": [
        {
          "output_type": "stream",
          "name": "stdout",
          "text": "Workspace name: eunmldevamlwstrdigi\nAzure region: northeurope\nSubscription id: cf11c61d-e6ca-4f6b-b8df-d2a77e8a4d04\nResource group: seq00963-nprd-eun-mldev-aml-trdigi\nExperiment(Name: heart-failure-capstone-aml-experiment,\nWorkspace: eunmldevamlwstrdigi)\n"
        }
      ],
      "execution_count": 2,
      "metadata": {
        "gather": {
          "logged": 1742193179717
        },
        "jupyter": {
          "outputs_hidden": false,
          "source_hidden": false
        },
        "nteract": {
          "transient": {
            "deleting": false
          }
        }
      }
    },
    {
      "cell_type": "markdown",
      "source": [
        "## AutoML Configuration\n",
        "\n",
        "TODO: Explain why you chose the automl settings and cofiguration you used below."
      ],
      "metadata": {}
    },
    {
      "cell_type": "code",
      "source": [
        "# Choose a name for your CPU cluster\n",
        "compute_cluster_name = \"atul-trdigi-compute\"\n",
        "\n",
        "# Verify that cluster does not exist already\n",
        "try:\n",
        "    compute_target = ComputeTarget(workspace=ws, name=compute_cluster_name)\n",
        "    print('Found existing cluster, use it.')\n",
        "except ComputeTargetException:\n",
        "    compute_config = AmlCompute.provisioning_configuration(\n",
        "        vm_size='STANDARD_D2_V2',# for GPU, use \"STANDARD_NC6\"\n",
        "        #vm_priority = 'lowpriority', # optional\n",
        "        min_nodes=0,\n",
        "        max_nodes=5)\n",
        "    compute_target = ComputeTarget.create(ws, compute_cluster_name, compute_config)\n",
        "\n",
        "compute_target.wait_for_completion(show_output=True)\n",
        "\n",
        "# For a more detailed view of current AmlCompute status, use get_status()\n",
        "print(compute_target.get_status().serialize())"
      ],
      "outputs": [
        {
          "output_type": "stream",
          "name": "stdout",
          "text": "Found existing cluster, use it.\n\nRunning\n{'errors': [], 'creationTime': '2025-01-28T10:09:36.982856+00:00', 'createdBy': {'userObjectId': '38452539-2a0d-4246-a767-79ca0fafda78', 'userTenantId': 'db1e96a8-a3da-442a-930b-235cac24cd5c', 'userName': None}, 'modifiedTime': '2025-03-17T06:09:15.360977+00:00', 'state': 'Running', 'vmSize': 'Standard_E4s_v3'}\n"
        }
      ],
      "execution_count": 3,
      "metadata": {
        "gather": {
          "logged": 1742193194374
        }
      }
    },
    {
      "cell_type": "code",
      "source": [
        "# Try to load the dataset from the Workspace. Otherwise, create it from the file\n",
        "found = False\n",
        "key = \"heart-failure-ds\"\n",
        "description_text = \"Heart failure clinical records dataset from the UCI repository (https://archive.ics.uci.edu/ml/datasets/Heart+failure+clinical+records)\"\n",
        "data_path = 'https://github.com/mishra-atul5001/MLE-with-Azure-ML/blob/main/Captsone-Project/dataset/heart_failure_clinical_records_dataset.csv'\n",
        "\n",
        "if key in ws.datasets.keys(): \n",
        "    found = True\n",
        "    dataset = ws.datasets[key] \n",
        "\n",
        "if not found:\n",
        "    # Create AML Dataset and register it into Workspace\n",
        "    dataset = Dataset.Tabular.from_delimited_files(data_path)        \n",
        "    # Register Dataset in Workspace\n",
        "    dataset = dataset.register(\n",
        "        workspace=ws,\n",
        "        name=key,\n",
        "        description=description_text)\n",
        "\n",
        "\n",
        "df = dataset.to_pandas_dataframe()\n",
        "df.info()\n",
        "df.describe()"
      ],
      "outputs": [
        {
          "output_type": "stream",
          "name": "stdout",
          "text": "{'infer_column_types': 'False', 'activity': 'to_pandas_dataframe'}\n{'infer_column_types': 'False', 'activity': 'to_pandas_dataframe', 'activityApp': 'TabularDataset'}\n<class 'pandas.core.frame.DataFrame'>\nRangeIndex: 1752 entries, 0 to 1751\nColumns: 4081 entries, <!DOCTYPE html> to Column4081\ndtypes: object(4081)\nmemory usage: 54.5+ MB\n"
        },
        {
          "output_type": "execute_result",
          "execution_count": 4,
          "data": {
            "text/plain": "       <!DOCTYPE html>               Column2  \\\ncount             1752                   180   \nunique            1063                   128   \ntop             </svg>  var(--color-fg-muted   \nfreq                90                    11   \n\n                                          Column3  \\\ncount                                         140   \nunique                                         71   \ntop     &quot;context&quot;:&quot;solutions&quot;   \nfreq                                           13   \n\n                                 Column4  \\\ncount                                 92   \nunique                                27   \ntop     &quot;tag&quot;:&quot;link&quot;   \nfreq                                  48   \n\n                                                  Column5  \\\ncount                                                  76   \nunique                                                 63   \ntop     &quot;originating_url&quot;:&quot;https://gith...   \nfreq                                                    6   \n\n                    Column6     Column7            Column8  \\\ncount                    25           8                  7   \nunique                   16           7                  6   \ntop     #656d76)));}/*!sc*/  sans-serif  Apple Color Emoji   \nfreq                      4           2                  2   \n\n                                                  Column9  \\\ncount                                                   7   \nunique                                                  6   \ntop     Segoe UI Emoji;-webkit-font-smoothing:subpixel...   \nfreq                                                    2   \n\n                        Column10  ...  \\\ncount                          7  ...   \nunique                         6  ...   \ntop     var(--fgColor-onEmphasis  ...   \nfreq                           2  ...   \n\n                                             Column4072  \\\ncount                                                 1   \nunique                                                1   \ntop     appPayload:{\"helpUrl\":\"https://docs.github.com\"   \nfreq                                                  1   \n\n                                               Column4073  \\\ncount                                                   1   \nunique                                                  1   \ntop     findFileWorkerPath:\"/assets-cdn/worker/find-fi...   \nfreq                                                    1   \n\n                                               Column4074         Column4075  \\\ncount                                                   1                  1   \nunique                                                  1                  1   \ntop     findInFileWorkerPath:\"/assets-cdn/worker/find-...  githubDevUrl:null   \nfreq                                                    1                  1   \n\n                                          Column4076  \\\ncount                                              1   \nunique                                             1   \ntop     enabled_features:{\"code_nav_ui_events\":false   \nfreq                                               1   \n\n                                        Column4077                Column4078  \\\ncount                                            1                         1   \nunique                                           1                         1   \ntop     overview_shared_code_dropdown_button:false  react_blob_overlay:false   \nfreq                                             1                         1   \n\n                              Column4079                   Column4080  \\\ncount                                  1                            1   \nunique                                 1                            1   \ntop     copilot_smell_icebreaker_ux:true  accessible_code_button:true   \nfreq                                   1                            1   \n\n                                      Column4081  \ncount                                          1  \nunique                                         1  \ntop     github_models_repo_tab:false}}}</script>  \nfreq                                           1  \n\n[4 rows x 4081 columns]",
            "text/html": "<div>\n<style scoped>\n    .dataframe tbody tr th:only-of-type {\n        vertical-align: middle;\n    }\n\n    .dataframe tbody tr th {\n        vertical-align: top;\n    }\n\n    .dataframe thead th {\n        text-align: right;\n    }\n</style>\n<table border=\"1\" class=\"dataframe\">\n  <thead>\n    <tr style=\"text-align: right;\">\n      <th></th>\n      <th>&lt;!DOCTYPE html&gt;</th>\n      <th>Column2</th>\n      <th>Column3</th>\n      <th>Column4</th>\n      <th>Column5</th>\n      <th>Column6</th>\n      <th>Column7</th>\n      <th>Column8</th>\n      <th>Column9</th>\n      <th>Column10</th>\n      <th>...</th>\n      <th>Column4072</th>\n      <th>Column4073</th>\n      <th>Column4074</th>\n      <th>Column4075</th>\n      <th>Column4076</th>\n      <th>Column4077</th>\n      <th>Column4078</th>\n      <th>Column4079</th>\n      <th>Column4080</th>\n      <th>Column4081</th>\n    </tr>\n  </thead>\n  <tbody>\n    <tr>\n      <th>count</th>\n      <td>1752</td>\n      <td>180</td>\n      <td>140</td>\n      <td>92</td>\n      <td>76</td>\n      <td>25</td>\n      <td>8</td>\n      <td>7</td>\n      <td>7</td>\n      <td>7</td>\n      <td>...</td>\n      <td>1</td>\n      <td>1</td>\n      <td>1</td>\n      <td>1</td>\n      <td>1</td>\n      <td>1</td>\n      <td>1</td>\n      <td>1</td>\n      <td>1</td>\n      <td>1</td>\n    </tr>\n    <tr>\n      <th>unique</th>\n      <td>1063</td>\n      <td>128</td>\n      <td>71</td>\n      <td>27</td>\n      <td>63</td>\n      <td>16</td>\n      <td>7</td>\n      <td>6</td>\n      <td>6</td>\n      <td>6</td>\n      <td>...</td>\n      <td>1</td>\n      <td>1</td>\n      <td>1</td>\n      <td>1</td>\n      <td>1</td>\n      <td>1</td>\n      <td>1</td>\n      <td>1</td>\n      <td>1</td>\n      <td>1</td>\n    </tr>\n    <tr>\n      <th>top</th>\n      <td>&lt;/svg&gt;</td>\n      <td>var(--color-fg-muted</td>\n      <td>&amp;quot;context&amp;quot;:&amp;quot;solutions&amp;quot;</td>\n      <td>&amp;quot;tag&amp;quot;:&amp;quot;link&amp;quot;</td>\n      <td>&amp;quot;originating_url&amp;quot;:&amp;quot;https://gith...</td>\n      <td>#656d76)));}/*!sc*/</td>\n      <td>sans-serif</td>\n      <td>Apple Color Emoji</td>\n      <td>Segoe UI Emoji;-webkit-font-smoothing:subpixel...</td>\n      <td>var(--fgColor-onEmphasis</td>\n      <td>...</td>\n      <td>appPayload:{\"helpUrl\":\"https://docs.github.com\"</td>\n      <td>findFileWorkerPath:\"/assets-cdn/worker/find-fi...</td>\n      <td>findInFileWorkerPath:\"/assets-cdn/worker/find-...</td>\n      <td>githubDevUrl:null</td>\n      <td>enabled_features:{\"code_nav_ui_events\":false</td>\n      <td>overview_shared_code_dropdown_button:false</td>\n      <td>react_blob_overlay:false</td>\n      <td>copilot_smell_icebreaker_ux:true</td>\n      <td>accessible_code_button:true</td>\n      <td>github_models_repo_tab:false}}}&lt;/script&gt;</td>\n    </tr>\n    <tr>\n      <th>freq</th>\n      <td>90</td>\n      <td>11</td>\n      <td>13</td>\n      <td>48</td>\n      <td>6</td>\n      <td>4</td>\n      <td>2</td>\n      <td>2</td>\n      <td>2</td>\n      <td>2</td>\n      <td>...</td>\n      <td>1</td>\n      <td>1</td>\n      <td>1</td>\n      <td>1</td>\n      <td>1</td>\n      <td>1</td>\n      <td>1</td>\n      <td>1</td>\n      <td>1</td>\n      <td>1</td>\n    </tr>\n  </tbody>\n</table>\n<p>4 rows × 4081 columns</p>\n</div>"
          },
          "metadata": {}
        }
      ],
      "execution_count": 4,
      "metadata": {
        "gather": {
          "logged": 1742193202195
        }
      }
    },
    {
      "cell_type": "code",
      "source": [
        "# TODO: Put your automl settings here\n",
        "automl_settings = {\n",
        "    \"experiment_timeout_minutes\": 60,\n",
        "    \"max_concurrent_iterations\": 5,\n",
        "    \"n_cross_validations\": 5,\n",
        "    \"primary_metric\" : 'accuracy'\n",
        "}\n",
        "\n",
        "# TODO: Put your automl config here\n",
        "automl_config = AutoMLConfig(\n",
        "    compute_target=compute_cluster_name,\n",
        "    task=\"classification\",\n",
        "    training_data=dataset,\n",
        "    label_column_name=\"DEATH_EVENT\",   \n",
        "    path=project_folder,\n",
        "    enable_early_stopping=True,\n",
        "    featurization='auto',\n",
        "    debug_log='automl_errors.log',\n",
        "    **automl_settings\n",
        "    )"
      ],
      "outputs": [],
      "execution_count": 5,
      "metadata": {
        "gather": {
          "logged": 1742193202374
        },
        "jupyter": {
          "outputs_hidden": false,
          "source_hidden": false
        },
        "nteract": {
          "transient": {
            "deleting": false
          }
        }
      }
    },
    {
      "cell_type": "code",
      "source": [
        "# TODO: Submit your experiment\n",
        "remote_run = experiment.submit(automl_config, show_output=True)"
      ],
      "outputs": [
        {
          "output_type": "error",
          "ename": "ConfigException",
          "evalue": "ConfigException:\n\tMessage: Conflicting or duplicate values are provided for arguments: [{\n    \"script\": null,\n    \"arguments\": [],\n    \"target\": \"atul-trdigi-compute\",\n    \"framework\": \"Python\",\n    \"communicator\": \"None\",\n    \"maxRunDurationSeconds\": null,\n    \"nodeCount\": 1,\n    \"priority\": null,\n    \"environment\": {\n        \"name\": \"default-environment\",\n        \"version\": null,\n        \"environmentVariables\": {\n            \"EXAMPLE_ENV_VAR\": \"EXAMPLE_VALUE\"\n        },\n        \"python\": {\n            \"userManagedDependencies\": false,\n            \"interpreterPath\": \"python\",\n            \"condaDependenciesFile\": null,\n            \"baseCondaEnvironment\": null,\n            \"condaDependencies\": {\n                \"name\": \"project_environment\",\n                \"dependencies\": [\n                    \"python=3.8.13\",\n                    {\n                        \"pip\": [\n                            \"azureml-defaults\"\n                        ]\n                    }\n                ],\n                \"channels\": [\n                    \"anaconda\",\n                    \"conda-forge\"\n                ]\n            }\n        },\n        \"docker\": {\n            \"enabled\": false,\n            \"baseImage\": \"mcr.microsoft.com/azureml/openmpi4.1.0-ubuntu20.04:20250121.v1\",\n            \"baseDockerfile\": null,\n            \"buildContext\": null,\n            \"sharedVolumes\": true,\n            \"shmSize\": \"2g\",\n            \"arguments\": [],\n            \"baseImageRegistry\": {\n                \"address\": null,\n                \"username\": null,\n                \"password\": null,\n                \"registryIdentity\": null\n            },\n            \"platform\": {\n                \"os\": \"Linux\",\n                \"architecture\": \"amd64\"\n            }\n        },\n        \"spark\": {\n            \"repositories\": [],\n            \"packages\": [],\n            \"precachePackages\": true\n        },\n        \"databricks\": {\n            \"mavenLibraries\": [],\n            \"pypiLibraries\": [],\n            \"rcranLibraries\": [],\n            \"jarLibraries\": [],\n            \"eggLibraries\": []\n        },\n        \"r\": null,\n        \"inferencingStackVersion\": null,\n        \"assetId\": null\n    },\n    \"history\": {\n        \"outputCollection\": true,\n        \"snapshotProject\": true,\n        \"directoriesToWatch\": [\n            \"logs\"\n        ]\n    },\n    \"spark\": {\n        \"configuration\": {\n            \"spark.app.name\": \"Azure ML Experiment\",\n            \"spark.yarn.maxAppAttempts\": 1\n        }\n    },\n    \"docker\": {\n        \"useDocker\": true,\n        \"sharedVolumes\": true,\n        \"arguments\": [],\n        \"shmSize\": \"2g\"\n    },\n    \"hdi\": {\n        \"yarnDeployMode\": \"cluster\"\n    },\n    \"tensorflow\": {\n        \"workerCount\": 1,\n        \"parameterServerCount\": 1\n    },\n    \"mpi\": {\n        \"processCountPerNode\": 1,\n        \"nodeCount\": 1\n    },\n    \"pytorch\": {\n        \"communicationBackend\": \"nccl\",\n        \"processCount\": null,\n        \"nodeCount\": 1\n    },\n    \"paralleltask\": {\n        \"maxRetriesPerWorker\": 0,\n        \"workerCountPerNode\": 1,\n        \"terminalExitCodes\": null\n    },\n    \"dataReferences\": {},\n    \"data\": {},\n    \"datacaches\": [],\n    \"outputData\": {},\n    \"sourceDirectoryDataStore\": null,\n    \"amlcompute\": {\n        \"vmSize\": null,\n        \"vmPriority\": null,\n        \"retainCluster\": false,\n        \"name\": null,\n        \"clusterMaxNodeCount\": null\n    },\n    \"autoClusterComputeSpecification\": null,\n    \"kubernetescompute\": {\n        \"instanceType\": null\n    },\n    \"credentialPassthrough\": false,\n    \"command\": \"\",\n    \"environmentVariables\": {},\n    \"applicationEndpoints\": {}\n}]\n\tInnerException: None\n\tErrorResponse \n{\n    \"error\": {\n        \"code\": \"UserError\",\n        \"message\": \"Conflicting or duplicate values are provided for arguments: [{\\n    \\\"script\\\": null,\\n    \\\"arguments\\\": [],\\n    \\\"target\\\": \\\"atul-trdigi-compute\\\",\\n    \\\"framework\\\": \\\"Python\\\",\\n    \\\"communicator\\\": \\\"None\\\",\\n    \\\"maxRunDurationSeconds\\\": null,\\n    \\\"nodeCount\\\": 1,\\n    \\\"priority\\\": null,\\n    \\\"environment\\\": {\\n        \\\"name\\\": \\\"default-environment\\\",\\n        \\\"version\\\": null,\\n        \\\"environmentVariables\\\": {\\n            \\\"EXAMPLE_ENV_VAR\\\": \\\"EXAMPLE_VALUE\\\"\\n        },\\n        \\\"python\\\": {\\n            \\\"userManagedDependencies\\\": false,\\n            \\\"interpreterPath\\\": \\\"python\\\",\\n            \\\"condaDependenciesFile\\\": null,\\n            \\\"baseCondaEnvironment\\\": null,\\n            \\\"condaDependencies\\\": {\\n                \\\"name\\\": \\\"project_environment\\\",\\n                \\\"dependencies\\\": [\\n                    \\\"python=3.8.13\\\",\\n                    {\\n                        \\\"pip\\\": [\\n                            \\\"azureml-defaults\\\"\\n                        ]\\n                    }\\n                ],\\n                \\\"channels\\\": [\\n                    \\\"anaconda\\\",\\n                    \\\"conda-forge\\\"\\n                ]\\n            }\\n        },\\n        \\\"docker\\\": {\\n            \\\"enabled\\\": false,\\n            \\\"baseImage\\\": \\\"mcr.microsoft.com/azureml/openmpi4.1.0-ubuntu20.04:20250121.v1\\\",\\n            \\\"baseDockerfile\\\": null,\\n            \\\"buildContext\\\": null,\\n            \\\"sharedVolumes\\\": true,\\n            \\\"shmSize\\\": \\\"2g\\\",\\n            \\\"arguments\\\": [],\\n            \\\"baseImageRegistry\\\": {\\n                \\\"address\\\": null,\\n                \\\"username\\\": null,\\n                \\\"password\\\": null,\\n                \\\"registryIdentity\\\": null\\n            },\\n            \\\"platform\\\": {\\n                \\\"os\\\": \\\"Linux\\\",\\n                \\\"architecture\\\": \\\"amd64\\\"\\n            }\\n        },\\n        \\\"spark\\\": {\\n            \\\"repositories\\\": [],\\n            \\\"packages\\\": [],\\n            \\\"precachePackages\\\": true\\n        },\\n        \\\"databricks\\\": {\\n            \\\"mavenLibraries\\\": [],\\n            \\\"pypiLibraries\\\": [],\\n            \\\"rcranLibraries\\\": [],\\n            \\\"jarLibraries\\\": [],\\n            \\\"eggLibraries\\\": []\\n        },\\n        \\\"r\\\": null,\\n        \\\"inferencingStackVersion\\\": null,\\n        \\\"assetId\\\": null\\n    },\\n    \\\"history\\\": {\\n        \\\"outputCollection\\\": true,\\n        \\\"snapshotProject\\\": true,\\n        \\\"directoriesToWatch\\\": [\\n            \\\"logs\\\"\\n        ]\\n    },\\n    \\\"spark\\\": {\\n        \\\"configuration\\\": {\\n            \\\"spark.app.name\\\": \\\"Azure ML Experiment\\\",\\n            \\\"spark.yarn.maxAppAttempts\\\": 1\\n        }\\n    },\\n    \\\"docker\\\": {\\n        \\\"useDocker\\\": true,\\n        \\\"sharedVolumes\\\": true,\\n        \\\"arguments\\\": [],\\n        \\\"shmSize\\\": \\\"2g\\\"\\n    },\\n    \\\"hdi\\\": {\\n        \\\"yarnDeployMode\\\": \\\"cluster\\\"\\n    },\\n    \\\"tensorflow\\\": {\\n        \\\"workerCount\\\": 1,\\n        \\\"parameterServerCount\\\": 1\\n    },\\n    \\\"mpi\\\": {\\n        \\\"processCountPerNode\\\": 1,\\n        \\\"nodeCount\\\": 1\\n    },\\n    \\\"pytorch\\\": {\\n        \\\"communicationBackend\\\": \\\"nccl\\\",\\n        \\\"processCount\\\": null,\\n        \\\"nodeCount\\\": 1\\n    },\\n    \\\"paralleltask\\\": {\\n        \\\"maxRetriesPerWorker\\\": 0,\\n        \\\"workerCountPerNode\\\": 1,\\n        \\\"terminalExitCodes\\\": null\\n    },\\n    \\\"dataReferences\\\": {},\\n    \\\"data\\\": {},\\n    \\\"datacaches\\\": [],\\n    \\\"outputData\\\": {},\\n    \\\"sourceDirectoryDataStore\\\": null,\\n    \\\"amlcompute\\\": {\\n        \\\"vmSize\\\": null,\\n        \\\"vmPriority\\\": null,\\n        \\\"retainCluster\\\": false,\\n        \\\"name\\\": null,\\n        \\\"clusterMaxNodeCount\\\": null\\n    },\\n    \\\"autoClusterComputeSpecification\\\": null,\\n    \\\"kubernetescompute\\\": {\\n        \\\"instanceType\\\": null\\n    },\\n    \\\"credentialPassthrough\\\": false,\\n    \\\"command\\\": \\\"\\\",\\n    \\\"environmentVariables\\\": {},\\n    \\\"applicationEndpoints\\\": {}\\n}]\",\n        \"details_uri\": \"https://aka.ms/AutoMLConfig\",\n        \"inner_error\": {\n            \"code\": \"BadArgument\",\n            \"inner_error\": {\n                \"code\": \"ArgumentMismatch\",\n                \"inner_error\": {\n                    \"code\": \"ConflictingValueForArguments\"\n                }\n            }\n        }\n    }\n}",
          "traceback": [
            "\u001b[0;31m---------------------------------------------------------------------------\u001b[0m",
            "\u001b[0;31mConfigException\u001b[0m                           Traceback (most recent call last)",
            "Cell \u001b[0;32mIn[7], line 2\u001b[0m\n\u001b[1;32m      1\u001b[0m \u001b[38;5;66;03m# TODO: Submit your experiment\u001b[39;00m\n\u001b[0;32m----> 2\u001b[0m remote_run \u001b[38;5;241m=\u001b[39m \u001b[43mexperiment\u001b[49m\u001b[38;5;241;43m.\u001b[39;49m\u001b[43msubmit\u001b[49m\u001b[43m(\u001b[49m\u001b[43mautoml_config\u001b[49m\u001b[43m,\u001b[49m\u001b[43m \u001b[49m\u001b[43mshow_output\u001b[49m\u001b[38;5;241;43m=\u001b[39;49m\u001b[38;5;28;43;01mTrue\u001b[39;49;00m\u001b[43m)\u001b[49m\n",
            "File \u001b[0;32m/anaconda/envs/azureml_py38/lib/python3.10/site-packages/azureml/core/experiment.py:238\u001b[0m, in \u001b[0;36mExperiment.submit\u001b[0;34m(self, config, tags, **kwargs)\u001b[0m\n\u001b[1;32m    236\u001b[0m submit_func \u001b[38;5;241m=\u001b[39m get_experiment_submit(config)\n\u001b[1;32m    237\u001b[0m \u001b[38;5;28;01mwith\u001b[39;00m \u001b[38;5;28mself\u001b[39m\u001b[38;5;241m.\u001b[39m_log_context(\u001b[38;5;124m\"\u001b[39m\u001b[38;5;124msubmit config \u001b[39m\u001b[38;5;132;01m{}\u001b[39;00m\u001b[38;5;124m\"\u001b[39m\u001b[38;5;241m.\u001b[39mformat(config\u001b[38;5;241m.\u001b[39m\u001b[38;5;18m__class__\u001b[39m\u001b[38;5;241m.\u001b[39m\u001b[38;5;18m__name__\u001b[39m)):\n\u001b[0;32m--> 238\u001b[0m     run \u001b[38;5;241m=\u001b[39m \u001b[43msubmit_func\u001b[49m\u001b[43m(\u001b[49m\u001b[43mconfig\u001b[49m\u001b[43m,\u001b[49m\u001b[43m \u001b[49m\u001b[38;5;28;43mself\u001b[39;49m\u001b[38;5;241;43m.\u001b[39;49m\u001b[43mworkspace\u001b[49m\u001b[43m,\u001b[49m\u001b[43m \u001b[49m\u001b[38;5;28;43mself\u001b[39;49m\u001b[38;5;241;43m.\u001b[39;49m\u001b[43mname\u001b[49m\u001b[43m,\u001b[49m\u001b[43m \u001b[49m\u001b[38;5;241;43m*\u001b[39;49m\u001b[38;5;241;43m*\u001b[39;49m\u001b[43mkwargs\u001b[49m\u001b[43m)\u001b[49m\n\u001b[1;32m    239\u001b[0m \u001b[38;5;28;01mif\u001b[39;00m tags \u001b[38;5;129;01mis\u001b[39;00m \u001b[38;5;129;01mnot\u001b[39;00m \u001b[38;5;28;01mNone\u001b[39;00m:\n\u001b[1;32m    240\u001b[0m     run\u001b[38;5;241m.\u001b[39mset_tags(tags)\n",
            "File \u001b[0;32m/anaconda/envs/azureml_py38/lib/python3.10/site-packages/azureml/train/automl/automlconfig.py:103\u001b[0m, in \u001b[0;36m_automl_static_submit\u001b[0;34m(automl_config_object, workspace, experiment_name, **kwargs)\u001b[0m\n\u001b[1;32m    100\u001b[0m settings \u001b[38;5;241m=\u001b[39m _azureautomlsettings\u001b[38;5;241m.\u001b[39mAzureAutoMLSettings(experiment\u001b[38;5;241m=\u001b[39mexperiment, \u001b[38;5;241m*\u001b[39m\u001b[38;5;241m*\u001b[39msettings_dict)\n\u001b[1;32m    102\u001b[0m \u001b[38;5;28;01mwith\u001b[39;00m log_server\u001b[38;5;241m.\u001b[39mnew_log_context(parent_run_id\u001b[38;5;241m=\u001b[39mparent_run_id):\n\u001b[0;32m--> 103\u001b[0m     automl_run \u001b[38;5;241m=\u001b[39m \u001b[43m_start_execution\u001b[49m\u001b[43m(\u001b[49m\n\u001b[1;32m    104\u001b[0m \u001b[43m        \u001b[49m\u001b[43mexperiment\u001b[49m\u001b[43m,\u001b[49m\n\u001b[1;32m    105\u001b[0m \u001b[43m        \u001b[49m\u001b[43msettings\u001b[49m\u001b[43m,\u001b[49m\n\u001b[1;32m    106\u001b[0m \u001b[43m        \u001b[49m\u001b[43mfit_params\u001b[49m\u001b[43m,\u001b[49m\n\u001b[1;32m    107\u001b[0m \u001b[43m        \u001b[49m\u001b[43mrun_config\u001b[49m\u001b[43m,\u001b[49m\n\u001b[1;32m    108\u001b[0m \u001b[43m        \u001b[49m\u001b[43mcompute_target\u001b[49m\u001b[43m,\u001b[49m\n\u001b[1;32m    109\u001b[0m \u001b[43m        \u001b[49m\u001b[43mparent_run_id\u001b[49m\u001b[43m,\u001b[49m\n\u001b[1;32m    110\u001b[0m \u001b[43m        \u001b[49m\u001b[43mshow_output\u001b[49m\u001b[43m)\u001b[49m\n\u001b[1;32m    112\u001b[0m     automl_run\u001b[38;5;241m.\u001b[39madd_properties(global_tracking_info_registry\u001b[38;5;241m.\u001b[39mgather_all(settings\u001b[38;5;241m.\u001b[39mpath))\n\u001b[1;32m    114\u001b[0m     \u001b[38;5;28;01mreturn\u001b[39;00m automl_run\n",
            "File \u001b[0;32m/anaconda/envs/azureml_py38/lib/python3.10/site-packages/azureml/train/automl/automlconfig.py:177\u001b[0m, in \u001b[0;36m_start_execution\u001b[0;34m(experiment, settings_obj, fit_params, run_config, compute_target, parent_run_id, show_output)\u001b[0m\n\u001b[1;32m    174\u001b[0m         logger\u001b[38;5;241m.\u001b[39minfo(\u001b[38;5;124m\"\u001b[39m\u001b[38;5;124mLocal run configuration provided with docker set to \u001b[39m\u001b[38;5;132;01m{}\u001b[39;00m\u001b[38;5;124m. Running local managed run.\u001b[39m\u001b[38;5;124m\"\u001b[39m\n\u001b[1;32m    175\u001b[0m                     \u001b[38;5;241m.\u001b[39mformat(run_config\u001b[38;5;241m.\u001b[39mdocker\u001b[38;5;241m.\u001b[39muse_docker))\n\u001b[1;32m    176\u001b[0m     \u001b[38;5;28;01melif\u001b[39;00m compute_target \u001b[38;5;129;01mis\u001b[39;00m \u001b[38;5;129;01mnot\u001b[39;00m \u001b[38;5;28;01mNone\u001b[39;00m:\n\u001b[0;32m--> 177\u001b[0m         \u001b[38;5;28;01mraise\u001b[39;00m ConfigException\u001b[38;5;241m.\u001b[39m_with_error(\n\u001b[1;32m    178\u001b[0m             AzureMLError\u001b[38;5;241m.\u001b[39mcreate(\n\u001b[1;32m    179\u001b[0m                 ConflictingValueForArguments,\n\u001b[1;32m    180\u001b[0m                 argument_name\u001b[38;5;241m=\u001b[39m\u001b[38;5;124m\"\u001b[39m\u001b[38;5;124mrun_config/compute_target\u001b[39m\u001b[38;5;124m\"\u001b[39m,\n\u001b[1;32m    181\u001b[0m                 arguments\u001b[38;5;241m=\u001b[39mrun_config\n\u001b[1;32m    182\u001b[0m             )\n\u001b[1;32m    183\u001b[0m         )\n\u001b[1;32m    184\u001b[0m \u001b[38;5;28;01melif\u001b[39;00m \u001b[38;5;28misinstance\u001b[39m(compute_target, LocalTarget):\n\u001b[1;32m    185\u001b[0m     is_managed \u001b[38;5;241m=\u001b[39m \u001b[38;5;28;01mTrue\u001b[39;00m\n",
            "\u001b[0;31mConfigException\u001b[0m: ConfigException:\n\tMessage: Conflicting or duplicate values are provided for arguments: [{\n    \"script\": null,\n    \"arguments\": [],\n    \"target\": \"atul-trdigi-compute\",\n    \"framework\": \"Python\",\n    \"communicator\": \"None\",\n    \"maxRunDurationSeconds\": null,\n    \"nodeCount\": 1,\n    \"priority\": null,\n    \"environment\": {\n        \"name\": \"default-environment\",\n        \"version\": null,\n        \"environmentVariables\": {\n            \"EXAMPLE_ENV_VAR\": \"EXAMPLE_VALUE\"\n        },\n        \"python\": {\n            \"userManagedDependencies\": false,\n            \"interpreterPath\": \"python\",\n            \"condaDependenciesFile\": null,\n            \"baseCondaEnvironment\": null,\n            \"condaDependencies\": {\n                \"name\": \"project_environment\",\n                \"dependencies\": [\n                    \"python=3.8.13\",\n                    {\n                        \"pip\": [\n                            \"azureml-defaults\"\n                        ]\n                    }\n                ],\n                \"channels\": [\n                    \"anaconda\",\n                    \"conda-forge\"\n                ]\n            }\n        },\n        \"docker\": {\n            \"enabled\": false,\n            \"baseImage\": \"mcr.microsoft.com/azureml/openmpi4.1.0-ubuntu20.04:20250121.v1\",\n            \"baseDockerfile\": null,\n            \"buildContext\": null,\n            \"sharedVolumes\": true,\n            \"shmSize\": \"2g\",\n            \"arguments\": [],\n            \"baseImageRegistry\": {\n                \"address\": null,\n                \"username\": null,\n                \"password\": null,\n                \"registryIdentity\": null\n            },\n            \"platform\": {\n                \"os\": \"Linux\",\n                \"architecture\": \"amd64\"\n            }\n        },\n        \"spark\": {\n            \"repositories\": [],\n            \"packages\": [],\n            \"precachePackages\": true\n        },\n        \"databricks\": {\n            \"mavenLibraries\": [],\n            \"pypiLibraries\": [],\n            \"rcranLibraries\": [],\n            \"jarLibraries\": [],\n            \"eggLibraries\": []\n        },\n        \"r\": null,\n        \"inferencingStackVersion\": null,\n        \"assetId\": null\n    },\n    \"history\": {\n        \"outputCollection\": true,\n        \"snapshotProject\": true,\n        \"directoriesToWatch\": [\n            \"logs\"\n        ]\n    },\n    \"spark\": {\n        \"configuration\": {\n            \"spark.app.name\": \"Azure ML Experiment\",\n            \"spark.yarn.maxAppAttempts\": 1\n        }\n    },\n    \"docker\": {\n        \"useDocker\": true,\n        \"sharedVolumes\": true,\n        \"arguments\": [],\n        \"shmSize\": \"2g\"\n    },\n    \"hdi\": {\n        \"yarnDeployMode\": \"cluster\"\n    },\n    \"tensorflow\": {\n        \"workerCount\": 1,\n        \"parameterServerCount\": 1\n    },\n    \"mpi\": {\n        \"processCountPerNode\": 1,\n        \"nodeCount\": 1\n    },\n    \"pytorch\": {\n        \"communicationBackend\": \"nccl\",\n        \"processCount\": null,\n        \"nodeCount\": 1\n    },\n    \"paralleltask\": {\n        \"maxRetriesPerWorker\": 0,\n        \"workerCountPerNode\": 1,\n        \"terminalExitCodes\": null\n    },\n    \"dataReferences\": {},\n    \"data\": {},\n    \"datacaches\": [],\n    \"outputData\": {},\n    \"sourceDirectoryDataStore\": null,\n    \"amlcompute\": {\n        \"vmSize\": null,\n        \"vmPriority\": null,\n        \"retainCluster\": false,\n        \"name\": null,\n        \"clusterMaxNodeCount\": null\n    },\n    \"autoClusterComputeSpecification\": null,\n    \"kubernetescompute\": {\n        \"instanceType\": null\n    },\n    \"credentialPassthrough\": false,\n    \"command\": \"\",\n    \"environmentVariables\": {},\n    \"applicationEndpoints\": {}\n}]\n\tInnerException: None\n\tErrorResponse \n{\n    \"error\": {\n        \"code\": \"UserError\",\n        \"message\": \"Conflicting or duplicate values are provided for arguments: [{\\n    \\\"script\\\": null,\\n    \\\"arguments\\\": [],\\n    \\\"target\\\": \\\"atul-trdigi-compute\\\",\\n    \\\"framework\\\": \\\"Python\\\",\\n    \\\"communicator\\\": \\\"None\\\",\\n    \\\"maxRunDurationSeconds\\\": null,\\n    \\\"nodeCount\\\": 1,\\n    \\\"priority\\\": null,\\n    \\\"environment\\\": {\\n        \\\"name\\\": \\\"default-environment\\\",\\n        \\\"version\\\": null,\\n        \\\"environmentVariables\\\": {\\n            \\\"EXAMPLE_ENV_VAR\\\": \\\"EXAMPLE_VALUE\\\"\\n        },\\n        \\\"python\\\": {\\n            \\\"userManagedDependencies\\\": false,\\n            \\\"interpreterPath\\\": \\\"python\\\",\\n            \\\"condaDependenciesFile\\\": null,\\n            \\\"baseCondaEnvironment\\\": null,\\n            \\\"condaDependencies\\\": {\\n                \\\"name\\\": \\\"project_environment\\\",\\n                \\\"dependencies\\\": [\\n                    \\\"python=3.8.13\\\",\\n                    {\\n                        \\\"pip\\\": [\\n                            \\\"azureml-defaults\\\"\\n                        ]\\n                    }\\n                ],\\n                \\\"channels\\\": [\\n                    \\\"anaconda\\\",\\n                    \\\"conda-forge\\\"\\n                ]\\n            }\\n        },\\n        \\\"docker\\\": {\\n            \\\"enabled\\\": false,\\n            \\\"baseImage\\\": \\\"mcr.microsoft.com/azureml/openmpi4.1.0-ubuntu20.04:20250121.v1\\\",\\n            \\\"baseDockerfile\\\": null,\\n            \\\"buildContext\\\": null,\\n            \\\"sharedVolumes\\\": true,\\n            \\\"shmSize\\\": \\\"2g\\\",\\n            \\\"arguments\\\": [],\\n            \\\"baseImageRegistry\\\": {\\n                \\\"address\\\": null,\\n                \\\"username\\\": null,\\n                \\\"password\\\": null,\\n                \\\"registryIdentity\\\": null\\n            },\\n            \\\"platform\\\": {\\n                \\\"os\\\": \\\"Linux\\\",\\n                \\\"architecture\\\": \\\"amd64\\\"\\n            }\\n        },\\n        \\\"spark\\\": {\\n            \\\"repositories\\\": [],\\n            \\\"packages\\\": [],\\n            \\\"precachePackages\\\": true\\n        },\\n        \\\"databricks\\\": {\\n            \\\"mavenLibraries\\\": [],\\n            \\\"pypiLibraries\\\": [],\\n            \\\"rcranLibraries\\\": [],\\n            \\\"jarLibraries\\\": [],\\n            \\\"eggLibraries\\\": []\\n        },\\n        \\\"r\\\": null,\\n        \\\"inferencingStackVersion\\\": null,\\n        \\\"assetId\\\": null\\n    },\\n    \\\"history\\\": {\\n        \\\"outputCollection\\\": true,\\n        \\\"snapshotProject\\\": true,\\n        \\\"directoriesToWatch\\\": [\\n            \\\"logs\\\"\\n        ]\\n    },\\n    \\\"spark\\\": {\\n        \\\"configuration\\\": {\\n            \\\"spark.app.name\\\": \\\"Azure ML Experiment\\\",\\n            \\\"spark.yarn.maxAppAttempts\\\": 1\\n        }\\n    },\\n    \\\"docker\\\": {\\n        \\\"useDocker\\\": true,\\n        \\\"sharedVolumes\\\": true,\\n        \\\"arguments\\\": [],\\n        \\\"shmSize\\\": \\\"2g\\\"\\n    },\\n    \\\"hdi\\\": {\\n        \\\"yarnDeployMode\\\": \\\"cluster\\\"\\n    },\\n    \\\"tensorflow\\\": {\\n        \\\"workerCount\\\": 1,\\n        \\\"parameterServerCount\\\": 1\\n    },\\n    \\\"mpi\\\": {\\n        \\\"processCountPerNode\\\": 1,\\n        \\\"nodeCount\\\": 1\\n    },\\n    \\\"pytorch\\\": {\\n        \\\"communicationBackend\\\": \\\"nccl\\\",\\n        \\\"processCount\\\": null,\\n        \\\"nodeCount\\\": 1\\n    },\\n    \\\"paralleltask\\\": {\\n        \\\"maxRetriesPerWorker\\\": 0,\\n        \\\"workerCountPerNode\\\": 1,\\n        \\\"terminalExitCodes\\\": null\\n    },\\n    \\\"dataReferences\\\": {},\\n    \\\"data\\\": {},\\n    \\\"datacaches\\\": [],\\n    \\\"outputData\\\": {},\\n    \\\"sourceDirectoryDataStore\\\": null,\\n    \\\"amlcompute\\\": {\\n        \\\"vmSize\\\": null,\\n        \\\"vmPriority\\\": null,\\n        \\\"retainCluster\\\": false,\\n        \\\"name\\\": null,\\n        \\\"clusterMaxNodeCount\\\": null\\n    },\\n    \\\"autoClusterComputeSpecification\\\": null,\\n    \\\"kubernetescompute\\\": {\\n        \\\"instanceType\\\": null\\n    },\\n    \\\"credentialPassthrough\\\": false,\\n    \\\"command\\\": \\\"\\\",\\n    \\\"environmentVariables\\\": {},\\n    \\\"applicationEndpoints\\\": {}\\n}]\",\n        \"details_uri\": \"https://aka.ms/AutoMLConfig\",\n        \"inner_error\": {\n            \"code\": \"BadArgument\",\n            \"inner_error\": {\n                \"code\": \"ArgumentMismatch\",\n                \"inner_error\": {\n                    \"code\": \"ConflictingValueForArguments\"\n                }\n            }\n        }\n    }\n}"
          ]
        }
      ],
      "execution_count": 7,
      "metadata": {
        "gather": {
          "logged": 1742193531754
        },
        "jupyter": {
          "outputs_hidden": false,
          "source_hidden": false
        },
        "nteract": {
          "transient": {
            "deleting": false
          }
        }
      }
    },
    {
      "cell_type": "markdown",
      "source": [
        "## Run Details\n",
        "\n",
        "OPTIONAL: Write about the different models trained and their performance. Why do you think some models did better than others?\n",
        "\n",
        "TODO: In the cell below, use the `RunDetails` widget to show the different experiments."
      ],
      "metadata": {}
    },
    {
      "cell_type": "code",
      "source": [
        "RunDetails(remote_run).show()\n",
        "remote_run.wait_for_completion(show_output=True)\n",
        "remote_run"
      ],
      "outputs": [],
      "execution_count": null,
      "metadata": {
        "gather": {
          "logged": 1598431121770
        },
        "jupyter": {
          "outputs_hidden": false,
          "source_hidden": false
        },
        "nteract": {
          "transient": {
            "deleting": false
          }
        }
      }
    },
    {
      "cell_type": "markdown",
      "source": [
        "## Best Model\n",
        "\n",
        "TODO: In the cell below, get the best model from the automl experiments and display all the properties of the model.\n",
        "\n"
      ],
      "metadata": {}
    },
    {
      "cell_type": "code",
      "source": [
        "RunDetails(remote_run).show()\n",
        "remote_run.wait_for_completion(show_output=True)\n",
        "remote_run"
      ],
      "outputs": [],
      "execution_count": null,
      "metadata": {
        "gather": {
          "logged": 1598431425670
        },
        "jupyter": {
          "outputs_hidden": false,
          "source_hidden": false
        },
        "nteract": {
          "transient": {
            "deleting": false
          }
        }
      }
    },
    {
      "cell_type": "code",
      "source": [
        "#TODO: Save the best model\n",
        "best_run, fitted_model = remote_run.get_output()\n",
        "remote_run.get_metrics()"
      ],
      "outputs": [],
      "execution_count": null,
      "metadata": {
        "gather": {
          "logged": 1598431426111
        },
        "jupyter": {
          "outputs_hidden": false,
          "source_hidden": false
        },
        "nteract": {
          "transient": {
            "deleting": false
          }
        }
      }
    },
    {
      "cell_type": "code",
      "source": [
        "print(best_run)\n",
        "print(fitted_model)"
      ],
      "outputs": [],
      "execution_count": null,
      "metadata": {}
    },
    {
      "cell_type": "code",
      "source": [],
      "outputs": [],
      "execution_count": null,
      "metadata": {}
    },
    {
      "cell_type": "code",
      "source": [
        "dataset_test = Dataset.Tabular.from_delimited_files(path=data_path)\n",
        "df_test = dataset_test.to_pandas_dataframe()\n",
        "df_test = df_test[pd.notnull(df_test['DEATH_EVENT'])]\n",
        "\n",
        "y_test = df_test['DEATH_EVENT']\n",
        "X_test = df_test.drop(['DEATH_EVENT'], axis=1)\n",
        "\n",
        "ypred = fitted_model.predict(X_test)\n",
        "cm = confusion_matrix(y_test, ypred)\n",
        "\n",
        "# Visualize the confusion matrix\n",
        "pd.DataFrame(cm).style.background_gradient(cmap='Blues', low=0, high=0.9)"
      ],
      "outputs": [],
      "execution_count": null,
      "metadata": {}
    },
    {
      "cell_type": "markdown",
      "source": [
        "## Model Deployment\n",
        "\n",
        "Remember you have to deploy only one of the two models you trained but you still need to register both the models. Perform the steps in the rest of this notebook only if you wish to deploy this model.\n",
        "\n",
        "TODO: In the cell below, register the model, create an inference config and deploy the model as a web service."
      ],
      "metadata": {}
    },
    {
      "cell_type": "code",
      "source": [
        "# Save the model, scoring script and conda environment of the best run\n",
        "inference_folder_name = 'inference'\n",
        "automl_model = os.path.join(inference_folder_name, 'model.pkl')\n",
        "score_script = os.path.join(inference_folder_name, 'score.py')\n",
        "conda_env = os.path.join(inference_folder_name, 'conda_env.yml')\n",
        "best_run.download_file('outputs/model.pkl', automl_model)\n",
        "best_run.download_file('outputs/scoring_file_v_1_0_0.py', score_script)\n",
        "best_run.download_file('outputs/conda_env_v_1_0_0.yml', conda_env)"
      ],
      "outputs": [],
      "execution_count": null,
      "metadata": {
        "gather": {
          "logged": 1598431435189
        },
        "jupyter": {
          "outputs_hidden": false,
          "source_hidden": false
        },
        "nteract": {
          "transient": {
            "deleting": false
          }
        }
      }
    },
    {
      "cell_type": "code",
      "source": [
        "# Register the model\n",
        "model = Model.register(\n",
        "    workspace=ws,\n",
        "    model_name=best_run.properties['model_name'],\n",
        "    model_path=automl_model,\n",
        "    model_framework=Model.Framework.SCIKITLEARN,\n",
        "    model_framework_version=sklearn.__version__,\n",
        "    description='Auto ML model predicting deaths caused by heart failure'\n",
        "    )\n",
        "\n",
        "print('Name:', model.name)\n",
        "print('Version:', model.version)"
      ],
      "outputs": [],
      "execution_count": null,
      "metadata": {}
    },
    {
      "cell_type": "code",
      "source": [
        "# Create inference configuration\n",
        "env = Environment.from_conda_specification(name=\"env\", file_path=conda_env)\n",
        "inference_conf = InferenceConfig(entry_script=score_script, environment=env)\n",
        "\n",
        "# Display the environment file\n",
        "with open(conda_env, 'r') as file:\n",
        "    env_file = file.read()\n",
        "    print(env_file)"
      ],
      "outputs": [],
      "execution_count": null,
      "metadata": {}
    },
    {
      "cell_type": "code",
      "source": [],
      "outputs": [],
      "execution_count": null,
      "metadata": {}
    },
    {
      "cell_type": "markdown",
      "source": [
        "TODO: In the cell below, send a request to the web service you deployed to test it."
      ],
      "metadata": {
        "collapsed": true,
        "gather": {
          "logged": 1598431657736
        },
        "jupyter": {
          "outputs_hidden": false,
          "source_hidden": false
        },
        "nteract": {
          "transient": {
            "deleting": false
          }
        }
      }
    },
    {
      "cell_type": "code",
      "source": [
        "# Define deployment configuration\n",
        "deployment_conf = AciWebservice.deploy_configuration(\n",
        "    cpu_cores=1,\n",
        "    memory_gb=1,\n",
        "    description='Predicting deaths caused by heart failure',\n",
        "    enable_app_insights=True)\n",
        "\n",
        "# Deploy model as webservice using Azure Container Instance (ACI)\n",
        "service_name = \"aci-heart-failure-web\"\n",
        "\n",
        "service = Model.deploy(\n",
        "    workspace=ws,\n",
        "    name=service_name, \n",
        "    models=[model], \n",
        "    inference_config=inference_conf, \n",
        "    deployment_config=deployment_conf, \n",
        "    overwrite=True)\n",
        "\n",
        "service.wait_for_deployment(show_output=True)\n",
        "\n",
        "print(service.state)"
      ],
      "outputs": [],
      "execution_count": null,
      "metadata": {
        "gather": {
          "logged": 1598432707604
        },
        "jupyter": {
          "outputs_hidden": false,
          "source_hidden": false
        },
        "nteract": {
          "transient": {
            "deleting": false
          }
        }
      }
    },
    {
      "cell_type": "code",
      "source": [
        "import json\n",
        "import requests\n",
        "\n",
        "test_data = json.dumps({\n",
        "    \"data\": [\n",
        "        [55, 0, 1820, 0, 38, 0, 270000, 1.2, 139, 0, 0, 271],\n",
        "        [55, 0, 1199, 0, 20, 0, 263358.03, 1.83,134, 1, 1, 241],\n",
        "        [65, 1, 258, 1, 25, 0, 198000, 1.4, 129, 1, 0, 235],\n",
        "        [50, 0, 196, 0, 45, 0, 395000, 1.6, 136, 1, 1, 285]\n",
        "    ]})\n",
        "\n",
        "response = requests.post(\n",
        "    service.scoring_uri, \n",
        "    data=test_data, \n",
        "    headers={'Content-Type':'application/json'})\n",
        "\n",
        "print(\"Results:\", response.json())"
      ],
      "outputs": [],
      "execution_count": null,
      "metadata": {}
    },
    {
      "cell_type": "code",
      "source": [],
      "outputs": [],
      "execution_count": null,
      "metadata": {}
    },
    {
      "cell_type": "markdown",
      "source": [
        "TODO: In the cell below, print the logs of the web service and delete the service"
      ],
      "metadata": {
        "collapsed": true,
        "gather": {
          "logged": 1598432765711
        },
        "jupyter": {
          "outputs_hidden": false,
          "source_hidden": false
        },
        "nteract": {
          "transient": {
            "deleting": false
          }
        }
      }
    },
    {
      "cell_type": "code",
      "source": [
        "print(service.get_logs())"
      ],
      "outputs": [],
      "execution_count": null,
      "metadata": {
        "jupyter": {
          "outputs_hidden": false,
          "source_hidden": false
        },
        "nteract": {
          "transient": {
            "deleting": false
          }
        }
      }
    },
    {
      "cell_type": "code",
      "source": [
        "# Delete the web service and the model\n",
        "service.delete()\n",
        "model.delete()"
      ],
      "outputs": [],
      "execution_count": null,
      "metadata": {}
    },
    {
      "cell_type": "markdown",
      "source": [
        "**Submission Checklist**\n",
        "- I have registered the model.\n",
        "- I have deployed the model with the best accuracy as a webservice.\n",
        "- I have tested the webservice by sending a request to the model endpoint.\n",
        "- I have deleted the webservice and shutdown all the computes that I have used.\n",
        "- I have taken a screenshot showing the model endpoint as active.\n",
        "- The project includes a file containing the environment details.\n"
      ],
      "metadata": {}
    },
    {
      "cell_type": "markdown",
      "source": [],
      "metadata": {}
    }
  ],
  "metadata": {
    "kernel_info": {
      "name": "python38-azureml"
    },
    "kernelspec": {
      "name": "python38-azureml",
      "language": "python",
      "display_name": "Python 3.8 - AzureML"
    },
    "language_info": {
      "name": "python",
      "version": "3.10.11",
      "mimetype": "text/x-python",
      "codemirror_mode": {
        "name": "ipython",
        "version": 3
      },
      "pygments_lexer": "ipython3",
      "nbconvert_exporter": "python",
      "file_extension": ".py"
    },
    "nteract": {
      "version": "nteract-front-end@1.0.0"
    },
    "microsoft": {
      "host": {
        "AzureML": {
          "notebookHasBeenCompleted": true
        }
      },
      "ms_spell_check": {
        "ms_spell_check_language": "en"
      }
    }
  },
  "nbformat": 4,
  "nbformat_minor": 2
}